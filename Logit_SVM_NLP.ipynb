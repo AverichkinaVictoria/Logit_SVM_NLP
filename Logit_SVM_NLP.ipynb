{
 "cells": [
  {
   "cell_type": "markdown",
   "metadata": {
    "id": "s3v5HIUdDvY5"
   },
   "source": [
    "# HSE 2021: Mathematical Methods for Data Analysis\n"
   ]
  },
  {
   "cell_type": "code",
   "execution_count": 1,
   "metadata": {
    "id": "F7t9dYtdDvZC"
   },
   "outputs": [],
   "source": [
    "from typing import Tuple, List\n",
    "\n",
    "import matplotlib.pyplot as plt\n",
    "import numpy as np\n",
    "import pandas as pd\n",
    "import seaborn as sns\n",
    "import math\n",
    "import sklearn\n",
    "from sklearn.model_selection import GridSearchCV\n",
    "from sklearn.svm import SVC\n",
    "from sklearn.metrics import *\n",
    "\n",
    "from sklearn.metrics import *\n",
    "%matplotlib inline\n",
    "from sklearn.feature_extraction.text import TfidfVectorizer\n",
    "\n",
    "sns.set(style=\"darkgrid\")"
   ]
  },
  {
   "cell_type": "markdown",
   "metadata": {
    "id": "fIHtwV6vDvZD"
   },
   "source": [
    "## PART 1: Logit model"
   ]
  },
  {
   "cell_type": "markdown",
   "metadata": {
    "id": "Q7XKEWcVDvZD"
   },
   "source": [
    "We consider a binary classification problem. For prediction, we would like to use a logistic regression model. For regularization we add a combination of the $l_2$ and $l_1$ penalties (Elastic Net). \n",
    "\n",
    "Each object in the training dataset is indexed with $i$ and described by pair: features $x_i\\in\\mathbb{R}^{K}$ and binary labels $y_i$. The model parametrized with bias $w_0\\in\\mathbb{R}$ and weights $w\\in\\mathbb{R}^K$.\n",
    "\n",
    "The optimization problem with respect to the $w_0, w$ is the following (Elastic Net Loss):\n",
    "\n",
    "$$L(w, w_0) = \\frac{1}{N} \\sum_{i=1}^N \\ln(1+\\exp(-y_i(w^\\top x_i+w_0))) + \\gamma \\|w\\|_1 + \\beta \\|w\\|_2^2$$."
   ]
  },
  {
   "cell_type": "markdown",
   "metadata": {
    "id": "j1eSuDKXFVZu"
   },
   "source": [
    "#### 1.  Find the gradient of the Elastic Net loss and write its formulas (better in latex format) "
   ]
  },
  {
   "cell_type": "markdown",
   "metadata": {
    "id": "THyqTejNomTG"
   },
   "source": [
    "Let's take an Derivative on w and w0. "
   ]
  },
  {
   "cell_type": "markdown",
   "metadata": {
    "id": "QzSM3htKl7No"
   },
   "source": [
    "$$\\nabla_w L = \\frac{1}{N} \\sum_{i=1}^N \\frac{-y_ix_i*exp(-y_i(w_0+w^\\top x_i))}{1+exp(-y_i(w_0+w^\\top x_i))}+ \\ sign(w)*gamma +2 \\beta w$$.\n",
    "\n",
    "$$\\nabla_{w0} L = \\frac{1}{N} \\sum_{i=1}^N \\frac{-y_i*exp(-y_i(w_0+w^\\top x_i))}{1+exp(-y_i(w_0+w^\\top x_i))}$$."
   ]
  },
  {
   "cell_type": "markdown",
   "metadata": {
    "id": "Q_lIccN_DvZE"
   },
   "source": [
    "#### 2.  Implement the Elastic Net loss (as a function)"
   ]
  },
  {
   "cell_type": "code",
   "execution_count": 2,
   "metadata": {
    "id": "9QNfCtV5DvZE"
   },
   "outputs": [],
   "source": [
    "import math\n",
    "def loss(X, y, w: List[float], w0: float, gamma=1., beta=1.) -> float:\n",
    "  l1 = 0\n",
    "  l2 = 0\n",
    "  sum = 0\n",
    "  N = len(X)\n",
    "  \n",
    "  for i in range(len(w)):\n",
    "    l1 += abs(w[i])\n",
    "    l2 += pow(abs(w[i]),2)\n",
    "  l1 *= gamma\n",
    "  l2 *= beta\n",
    "  for i in range(N):\n",
    "    sum += math.log(1+math.exp(-y[i]*(np.dot(w,X[i])+w0))) + l1 + l2\n",
    "    \n",
    "  return (1/N)*sum"
   ]
  },
  {
   "cell_type": "markdown",
   "metadata": {
    "id": "fIVoC6UmDvZE"
   },
   "source": [
    "#### 3.  Implement the gradient (as a function)"
   ]
  },
  {
   "cell_type": "code",
   "execution_count": 3,
   "metadata": {
    "id": "v6Z-suil_Ua_"
   },
   "outputs": [],
   "source": [
    "def get_grad(X, y, w: List[float], w0: float, gamma=1., beta=1.) -> Tuple[List[float], float]:\n",
    "  N = len(X)\n",
    "  for i in range(N):\n",
    "    extra = (math.exp(-y[i]*(w0+np.dot(w,X[i])) )  ) / (1+math.exp(-y[i]*(w0+np.dot(w,X[i])) ) )\n",
    "    if i == 0:\n",
    "      grad_w0 = extra * (-y[i])\n",
    "      grad_w = extra * (-y[i]*X[i])+np.sign(w)*gamma + 2*beta*w\n",
    "    else:\n",
    "      grad_w0 += extra * (-y[i])\n",
    "      grad_w += extra * (-y[i]*X[i])+np.sign(w)*gamma + 2*beta*w\n",
    "  grad_w0 /= N\n",
    "  grad_w /= N\n",
    "  print(grad_w)\n",
    "  print(grad_w0)\n",
    "  return grad_w, grad_w0"
   ]
  },
  {
   "cell_type": "markdown",
   "metadata": {
    "id": "BhOb8HrtDvZF"
   },
   "source": [
    "#### Check yourself"
   ]
  },
  {
   "cell_type": "code",
   "execution_count": 4,
   "metadata": {
    "colab": {
     "base_uri": "https://localhost:8080/"
    },
    "id": "3FxXTocHDvZF",
    "outputId": "c457bc1e-1fc1-448f-d1aa-ee0541a4e1b7"
   },
   "outputs": [
    {
     "name": "stdout",
     "output_type": "stream",
     "text": [
      "[-2.73262181 -1.87176392  1.30051023  2.53598816 -2.71198278]\n",
      "-0.20782319347690748\n"
     ]
    }
   ],
   "source": [
    "np.random.seed(42)\n",
    "X = np.random.multivariate_normal(np.arange(5), np.eye(5), size=10)\n",
    "y = np.random.binomial(1, 0.42, size=10)\n",
    "w, w0 = np.random.normal(size=5), np.random.normal()\n",
    "\n",
    "grad_w, grad_w0 = get_grad(X, y, w, w0)\n",
    "assert(np.allclose(grad_w,\n",
    "                   [-2.73262076, -1.87176281, 1.30051144, 2.53598941, -2.71198109],\n",
    "                   rtol=1e-2) & \\\n",
    "       np.allclose(grad_w0,\n",
    "                   -0.2078231418067844, \n",
    "                   rtol=1e-2)\n",
    ")"
   ]
  },
  {
   "cell_type": "markdown",
   "metadata": {
    "id": "LbqLfcrRDvZF"
   },
   "source": [
    "####  4.  Implement gradient descent and plot the decision boundary of the result"
   ]
  },
  {
   "cell_type": "markdown",
   "metadata": {
    "id": "iIgiwQkjDvZF"
   },
   "source": [
    "The template provides basic sklearn API class. You are free to modify it in any convenient way."
   ]
  },
  {
   "cell_type": "code",
   "execution_count": 5,
   "metadata": {
    "id": "Thyeux0KDvZG"
   },
   "outputs": [],
   "source": [
    "from sklearn.base import BaseEstimator, ClassifierMixin"
   ]
  },
  {
   "cell_type": "code",
   "execution_count": 6,
   "metadata": {
    "id": "erVmNR0PDvZG"
   },
   "outputs": [],
   "source": [
    "class Logit(BaseEstimator, ClassifierMixin):\n",
    "    def __init__(self, beta=1.0, gamma=1.0, lr=1e-3, tolerance=0.01, max_iter=1000, random_state=42):  \n",
    "        self.beta = beta        \n",
    "        self.gamma = gamma\n",
    "        self.tolerance= tolerance\n",
    "        self.max_iter= max_iter\n",
    "        self.learning_rate = lr\n",
    "        self.random_state = random_state\n",
    "        self.w0 = None\n",
    "        self.w = None\n",
    "        self.w_history = None\n",
    "        self.w0_history = None\n",
    "        self.loss_history = None\n",
    "        self.i_hist = None\n",
    "        \n",
    "    def fit(self, X, y):\n",
    "        self.loss_history = []\n",
    "        self.w_history = []\n",
    "        self.w0_history = []\n",
    "        self.i_hist = []\n",
    "        self.w, self.w0 = np.random.normal(size=len(X[0])), np.random.normal()\n",
    "        \n",
    "        for i in range(self.max_iter):\n",
    "          self.i_hist.append(i)\n",
    "          w_grad, w0_grad = get_grad(X,y,self.w,self.w0, self.gamma, self.beta)\n",
    "          w_prev = self.w\n",
    "          w0_prev = self.w0\n",
    "          self.w = self.w - self.learning_rate*w_grad\n",
    "          self.w0 = self.w0 - self.learning_rate*w0_grad\n",
    "          loss_res = loss(X,y,self.w,self.w0, self.gamma, self.beta)\n",
    "\n",
    "          print('Iteration: ', i, ' Loss: ', loss_res)\n",
    "\n",
    "          self.loss_history.append(loss_res)\n",
    "          self.w_history.append(self.w)\n",
    "          self.w0_history.append(self.w0)\n",
    "          if (np.linalg.norm(w_prev - self.w) < self.tolerance) and (abs(w0_prev - self.w0) < self.tolerance):\n",
    "            print('yes: ', np.linalg.norm(w_prev - self.w), '<',self.tolerance)\n",
    "            return self\n",
    "        return self\n",
    "    \n",
    "    def predict(self, X):\n",
    "       arr = self.predict_proba(X)\n",
    "       res = []\n",
    "       print('predict',arr)\n",
    "       for i in range(len(X)):\n",
    "         if arr[0,i] > arr[1,i]:\n",
    "           res.append(0)\n",
    "         else:\n",
    "           res.append(1)\n",
    "       res = np.array(res)\n",
    "       return res\n",
    "        \n",
    "    def predict_proba(self, X):\n",
    "        return np.array([1 / (1 + np.exp(np.dot(X, self.w) + self.w0)),\\\n",
    "                         1 / (1 + np.exp(-np.dot(X, self.w) - self.w0))])"
   ]
  },
  {
   "cell_type": "code",
   "execution_count": 7,
   "metadata": {
    "id": "7SJX8Y6EDvZG"
   },
   "outputs": [],
   "source": [
    "# sample data to test model\n",
    "from sklearn.datasets import make_classification\n",
    "X, y = make_classification(n_samples=180, n_features=2, n_redundant=0, n_informative=2,\n",
    "                               random_state=42, n_clusters_per_class=1)"
   ]
  },
  {
   "cell_type": "code",
   "execution_count": 8,
   "metadata": {
    "id": "u41kzwGTDvZH"
   },
   "outputs": [],
   "source": [
    "# a function to plot the decision boundary\n",
    "def plot_decision_boundary(model, X, y):\n",
    "    fig = plt.figure()\n",
    "    X1min, X2min = X.min(axis=0)\n",
    "    X1max, X2max = X.max(axis=0)\n",
    "    x1, x2 = np.meshgrid(np.linspace(X1min, X1max, 200),\n",
    "                         np.linspace(X2min, X2max, 200))\n",
    "    ypred = model.predict(np.c_[x1.ravel(), x2.ravel()])\n",
    "    print(ypred)\n",
    "    ypred = ypred.reshape(x1.shape)\n",
    "    \n",
    "    plt.contourf(x1, x2, ypred, alpha=.4)\n",
    "    plt.scatter(X[:,0], X[:,1], c=y)"
   ]
  },
  {
   "cell_type": "code",
   "execution_count": null,
   "metadata": {},
   "outputs": [],
   "source": [
    "model = Logit(0.001,0.001,1e-1,1e-6,15000)\n",
    "y[y == 0] = -1\n",
    "model.fit(X, y)\n",
    "plot_decision_boundary(model, X, y)"
   ]
  },
  {
   "cell_type": "markdown",
   "metadata": {
    "id": "Qi4WRhcADvZI"
   },
   "source": [
    "#### 5.  Plot loss diagram for the model, i.e. show the dependence of the loss function from the gradient descent steps"
   ]
  },
  {
   "cell_type": "code",
   "execution_count": null,
   "metadata": {
    "colab": {
     "base_uri": "https://localhost:8080/",
     "height": 523
    },
    "id": "VyjMDAKuDvZI",
    "outputId": "195fa205-8f53-4962-a443-18daec54b01f"
   },
   "outputs": [
    {
     "name": "stdout",
     "output_type": "stream",
     "text": [
      "     w0_values  w1_values  w2_values  loss_values  iteration\n",
      "0     0.818187  -1.097186  -1.113838     1.480553          0\n",
      "1     0.823707  -1.087003  -1.034037     1.416526          1\n",
      "2     0.829042  -1.075831  -0.956876     1.356435          2\n",
      "3     0.834154  -1.063724  -0.882398     1.300191          3\n",
      "4     0.839011  -1.050750  -0.810620     1.247663          4\n",
      "..         ...        ...        ...          ...        ...\n",
      "995  -2.376113   2.187093   3.104401     0.123974        995\n",
      "996  -2.377539   2.188028   3.105221     0.123939        996\n",
      "997  -2.378963   2.188961   3.106040     0.123903        997\n",
      "998  -2.380386   2.189894   3.106858     0.123867        998\n",
      "999  -2.381808   2.190825   3.107675     0.123832        999\n",
      "\n",
      "[1000 rows x 5 columns]\n"
     ]
    },
    {
     "data": {
      "image/png": "[encoded data removed]",
      "text/plain": [
       "<Figure size 432x288 with 1 Axes>"
      ]
     },
     "metadata": {
      "needs_background": "light",
      "tags": []
     },
     "output_type": "display_data"
    }
   ],
   "source": [
    "#here i decided to show the dependence for the first 1000 steps, because it is\n",
    "#much more clear (in comparison with all steps (for about 15 thousands))\n",
    "\n",
    "model.w_history = np.array(model.w_history)\n",
    "model.w0_history = np.array(model.w0_history)\n",
    "model.loss_history = np.array(model.loss_history)\n",
    "# loading necessary data to dataframe\n",
    "df=pd.DataFrame({'w0_values': model.w0_history[:1000],\n",
    "                 'w1_values': model.w_history[:1000,0], \n",
    "                 'w2_values': model.w_history[:1000,1], \n",
    "                 'loss_values': model.loss_history[:1000],\n",
    "                 'iteration': model.i_hist[:1000] })\n",
    "print(df)\n",
    "\n",
    "plt.plot('iteration','w1_values', data=df, marker='', color='skyblue', linewidth=2, label = \"w1_values\")\n",
    "plt.plot( 'iteration','w2_values', data=df, marker='', color='olive', linewidth=2, label = \"w2_values\")\n",
    "plt.plot( 'iteration','w0_values', data=df, marker='', color='black', linewidth=2, label = \"w0_values\")\n",
    "plt.plot('iteration','loss_values', data=df, marker='', color='red', linewidth=2, label=\"loss\")\n",
    "\n",
    "plt.xlabel('Iteration')\n",
    "plt.ylabel('Value')\n",
    "\n",
    "plt.plot()\n",
    "plt.legend()\n",
    "plt.show()\n"
   ]
  },
  {
   "cell_type": "markdown",
   "metadata": {
    "id": "0FhSCAv_DvZJ"
   },
   "source": [
    "## PART 2: Support Vector Machines"
   ]
  },
  {
   "cell_type": "markdown",
   "metadata": {
    "id": "lYyGsSxEDvZJ"
   },
   "source": [
    "#### 6. Using the same dataset, train SVM Classifier from Sklearn.\n",
    "Investigate how different parameters influence the quality of the solution:\n",
    "+ Try several kernels: Linear, Polynomial, RBF (and others if you wish). Some Kernels have hypermeters: don't forget to try different.\n",
    "+ Regularization coefficient \n",
    "\n",
    "Show how these parameters affect accuracy, roc_auc and f1 score. \n",
    "Make plots for the dependencies between metrics and parameters. \n",
    "Try to formulate conclusions from the observations. How sensitive are kernels to hyperparameters? How sensitive is a solution to the regularization? Which kernel is prone to overfitting?"
   ]
  },
  {
   "cell_type": "code",
   "execution_count": null,
   "metadata": {
    "id": "zjCWkTFUSLMO"
   },
   "outputs": [],
   "source": [
    "def show_results(test_y, pred, proba):\n",
    "    print(\"Precision: {0:6.2f}\".format(precision_score(test_y, pred, average='macro')))\n",
    "    print(\"Recall: {0:6.2f}\".format(recall_score(test_y, pred, average='macro')))\n",
    "    print(\"F1-measure: {0:6.2f}\".format(f1_score(test_y, pred, average='macro')))\n",
    "    print(\"Accuracy: {0:6.2f}\".format(accuracy_score(test_y, pred)))\n",
    "    print(\"ROC-AUC  =  {0:6.2f}\".format(roc_auc_score(test_y, proba[:,1]),))\n",
    "    print('\\n')\n",
    "    labels = ['negative','positive']\n",
    "\n",
    "    #classification_report\n",
    "    sns.heatmap(data=confusion_matrix(test_y, pred), annot=True, fmt=\"d\", cbar=False, xticklabels=labels, yticklabels=labels)\n",
    "    plt.title(\"Confusion matrix \")\n",
    "    plt.show()"
   ]
  },
  {
   "cell_type": "markdown",
   "metadata": {
    "id": "7QNkgJa_vsFB"
   },
   "source": [
    "As far as i saw, that GridSearch with all parameters was working for a very long period of time - i decided to separate gridSearch for 3 kernels(with their parameters). And after that watch to all metrics and find the best kernel between them. "
   ]
  },
  {
   "cell_type": "code",
   "execution_count": null,
   "metadata": {
    "colab": {
     "base_uri": "https://localhost:8080/",
     "height": 964
    },
    "id": "Nicu_O3IDvZK",
    "outputId": "d3b8b5dc-2e3d-45c0-beda-8f634ddc522b"
   },
   "outputs": [
    {
     "name": "stdout",
     "output_type": "stream",
     "text": [
      "Fitting 2 folds for each of 7 candidates, totalling 14 fits\n",
      "[CV] C=0.001, kernel=linear ..........................................\n",
      "[CV] ........................... C=0.001, kernel=linear, total=   0.0s\n",
      "[CV] C=0.001, kernel=linear ..........................................\n",
      "[CV] ........................... C=0.001, kernel=linear, total=   0.0s\n",
      "[CV] C=0.01, kernel=linear ...........................................\n",
      "[CV] ............................ C=0.01, kernel=linear, total=   0.0s\n",
      "[CV] C=0.01, kernel=linear ...........................................\n",
      "[CV] ............................ C=0.01, kernel=linear, total=   0.0s\n",
      "[CV] C=0.1, kernel=linear ............................................\n",
      "[CV] ............................. C=0.1, kernel=linear, total=   0.0s\n",
      "[CV] C=0.1, kernel=linear ............................................\n",
      "[CV] ............................. C=0.1, kernel=linear, total=   0.0s\n",
      "[CV] C=1, kernel=linear ..............................................\n",
      "[CV] ............................... C=1, kernel=linear, total=   0.0s\n",
      "[CV] C=1, kernel=linear ..............................................\n",
      "[CV] ............................... C=1, kernel=linear, total=   0.0s\n",
      "[CV] C=10, kernel=linear .............................................\n",
      "[CV] .............................. C=10, kernel=linear, total=   0.0s\n",
      "[CV] C=10, kernel=linear .............................................\n",
      "[CV] .............................. C=10, kernel=linear, total=   0.0s\n",
      "[CV] C=100, kernel=linear ............................................\n",
      "[CV] ............................. C=100, kernel=linear, total=   0.0s\n",
      "[CV] C=100, kernel=linear ............................................\n",
      "[CV] ............................. C=100, kernel=linear, total=   0.0s\n",
      "[CV] C=1000, kernel=linear ...........................................\n",
      "[CV] ............................ C=1000, kernel=linear, total=   0.0s\n",
      "[CV] C=1000, kernel=linear ...........................................\n",
      "[CV] ............................ C=1000, kernel=linear, total=   0.0s\n",
      "BEST PARAMS:  {'C': 10, 'kernel': 'linear'}\n",
      "Precision:   0.97\n",
      "Recall:   0.97\n",
      "F1-measure:   0.97\n",
      "Accuracy:   0.97\n",
      "ROC-AUC  =    1.00\n",
      "\n",
      "\n"
     ]
    },
    {
     "name": "stderr",
     "output_type": "stream",
     "text": [
      "[Parallel(n_jobs=1)]: Using backend SequentialBackend with 1 concurrent workers.\n",
      "[Parallel(n_jobs=1)]: Done   1 out of   1 | elapsed:    0.0s remaining:    0.0s\n",
      "[Parallel(n_jobs=1)]: Done  14 out of  14 | elapsed:    0.1s finished\n"
     ]
    },
    {
     "data": {
      "image/png": "[encoded data removed]",
      "text/plain": [
       "<Figure size 432x288 with 1 Axes>"
      ]
     },
     "metadata": {
      "needs_background": "light",
      "tags": []
     },
     "output_type": "display_data"
    }
   ],
   "source": [
    "\n",
    "x_train, x_test, y_train, y_test = sklearn.model_selection.train_test_split(X, y, test_size=0.4, random_state=0)\n",
    "\n",
    "parameters_linear = {'kernel':['linear'], 'C':[0.001, 0.01, 0.1, 1, 10, 100, 1000]}\n",
    "svr = SVC(probability=True, verbose = False)\n",
    "\n",
    "clf_linear = GridSearchCV(svr, parameters_linear, scoring = 'f1', verbose=2, cv=2)\n",
    "clf_linear.fit(x_train, y_train)\n",
    "print('BEST PARAMS: ', clf_linear.best_params_)\n",
    "pred = clf_linear.predict(x_test)\n",
    "proba  = clf_linear.predict_proba(x_test)\n",
    "show_results(y_test, pred, proba)"
   ]
  },
  {
   "cell_type": "code",
   "execution_count": null,
   "metadata": {},
   "outputs": [],
   "source": [
    "parameters_poly = {'kernel':['poly'], 'C':[0.001, 0.01, 0.1, 1, 10, 100, 1000], 'degree':[1, 4, 8, 10]}\n",
    "clf_poly = GridSearchCV(svr, parameters_poly, scoring = 'f1', verbose=2, cv=2)\n",
    "clf_poly.fit(x_train, y_train)\n",
    "print('BEST PARAMS: ', clf_poly.best_params_)\n",
    "pred = clf_poly.predict(x_test)\n",
    "proba  = clf_poly.predict_proba(x_test)\n",
    "show_results(y_test, pred, proba)"
   ]
  },
  {
   "cell_type": "code",
   "execution_count": null,
   "metadata": {},
   "outputs": [],
   "source": [
    "parameters_rbf = {'kernel':['rbf'], 'C':[0.001, 0.01, 0.1, 1, 10, 100, 1000], 'gamma': [0,1,10]}\n",
    "clf_rbf = GridSearchCV(svr, parameters_rbf, scoring = 'f1', verbose=2, cv=2)\n",
    "clf_rbf.fit(x_train, y_train)\n",
    "print('BEST PARAMS: ', clf_rbf.best_params_)\n",
    "pred = clf_rbf.predict(x_test)\n",
    "proba  = clf_rbf.predict_proba(x_test)\n",
    "show_results(y_test, pred, proba)"
   ]
  },
  {
   "cell_type": "markdown",
   "metadata": {
    "id": "LI6hxhmzyFaI"
   },
   "source": [
    "So now we have all best params and metrics for 3 kernels: poly, linear and rbf. \n",
    "\n",
    "BEST PARAMS:  {'C': 0.1, 'gamma': 1, 'kernel': 'rbf'}\n",
    "\n",
    "Precision:   0.95\n",
    "\n",
    "Recall:   0.94\n",
    "\n",
    "F1-measure:   0.94\n",
    "\n",
    "Accuracy:   0.94\n",
    "\n",
    "ROC-AUC  =    1.00\n"
   ]
  },
  {
   "cell_type": "markdown",
   "metadata": {
    "id": "qC1WGM1jyWdi"
   },
   "source": [
    "BEST PARAMS:  {'C': 1, 'degree': 1, 'kernel': 'poly'}\n",
    "\n",
    "Precision:   0.96\n",
    "\n",
    "Recall:   0.96\n",
    "\n",
    "F1-measure:   0.96\n",
    "\n",
    "Accuracy:   0.96\n",
    "\n",
    "ROC-AUC  =    1.00"
   ]
  },
  {
   "cell_type": "markdown",
   "metadata": {
    "id": "R7THD5MDyWs_"
   },
   "source": [
    "BEST PARAMS:  {'C': 10, 'kernel': 'linear'}\n",
    "\n",
    "Precision:   0.97\n",
    "\n",
    "Recall:   0.97\n",
    "\n",
    "F1-measure:   0.97\n",
    "\n",
    "Accuracy:   0.97\n",
    "\n",
    "ROC-AUC  =    1.00"
   ]
  },
  {
   "cell_type": "markdown",
   "metadata": {
    "id": "F4JDdpakyC2p"
   },
   "source": [
    "Now we can see, that for our data the worst kernel is rbf with its 0,94 accurancy. The second place takes polynomial kernel with 0,97 accurancy/F1-measure. And the best kernel for our model is linear with param C = 10. \n",
    "\n",
    "Now we will draw the plots for each kernel in case of their hyperparameters. "
   ]
  },
  {
   "cell_type": "code",
   "execution_count": null,
   "metadata": {
    "id": "rJlQWw71bbaA"
   },
   "outputs": [],
   "source": [
    "#to make the plot more clear  i use only first three lines from data\n",
    "def drawPlot(data,ttl,prm):\n",
    "  plt.plot('param','f1_scores', data=data.iloc[:4], marker='', color='skyblue', linewidth=2, label = \"f1_scores\")\n",
    "  plt.plot( 'param','acc_scores', data=data.iloc[:4], marker='', color='olive', linewidth=2, label = \"acc_scores\")\n",
    "  plt.plot( 'param','roc_scores', data=data.iloc[:4], marker='', color='black', linewidth=2, label = \"roc_scores\")\n",
    "\n",
    "  plt.xlabel(prm)\n",
    "  plt.ylabel('Value')\n",
    "\n",
    "  plt.plot()\n",
    "  plt.title(ttl)\n",
    "  plt.legend()\n",
    "  plt.show()"
   ]
  },
  {
   "cell_type": "code",
   "execution_count": null,
   "metadata": {
    "colab": {
     "base_uri": "https://localhost:8080/"
    },
    "id": "m5zEBaNyYIOA",
    "outputId": "87f93798-ad44-4df5-da67-f040b65d78ff"
   },
   "outputs": [
    {
     "name": "stderr",
     "output_type": "stream",
     "text": [
      "[Parallel(n_jobs=1)]: Using backend SequentialBackend with 1 concurrent workers.\n",
      "[Parallel(n_jobs=1)]: Done   1 out of   1 | elapsed:    0.0s remaining:    0.0s\n",
      "[Parallel(n_jobs=1)]: Done   2 out of   2 | elapsed:    0.0s finished\n",
      "[Parallel(n_jobs=1)]: Using backend SequentialBackend with 1 concurrent workers.\n",
      "[Parallel(n_jobs=1)]: Done   1 out of   1 | elapsed:    0.0s remaining:    0.0s\n",
      "[Parallel(n_jobs=1)]: Done   2 out of   2 | elapsed:    0.0s finished\n"
     ]
    },
    {
     "name": "stdout",
     "output_type": "stream",
     "text": [
      "Fitting 2 folds for each of 1 candidates, totalling 2 fits\n",
      "[CV] C=0.001, kernel=linear ..........................................\n",
      "[CV] ........................... C=0.001, kernel=linear, total=   0.0s\n",
      "[CV] C=0.001, kernel=linear ..........................................\n",
      "[CV] ........................... C=0.001, kernel=linear, total=   0.0s\n",
      "Fitting 2 folds for each of 1 candidates, totalling 2 fits\n",
      "[CV] C=0.01, kernel=linear ...........................................\n",
      "[CV] ............................ C=0.01, kernel=linear, total=   0.0s\n",
      "[CV] C=0.01, kernel=linear ...........................................\n",
      "[CV] ............................ C=0.01, kernel=linear, total=   0.0s\n",
      "Fitting 2 folds for each of 1 candidates, totalling 2 fits\n",
      "[CV] C=0.1, kernel=linear ............................................\n",
      "[CV] ............................. C=0.1, kernel=linear, total=   0.0s\n",
      "[CV] C=0.1, kernel=linear ............................................\n",
      "[CV] ............................. C=0.1, kernel=linear, total=   0.0s\n",
      "Fitting 2 folds for each of 1 candidates, totalling 2 fits\n",
      "[CV] C=1, kernel=linear ..............................................\n",
      "[CV] ............................... C=1, kernel=linear, total=   0.0s\n",
      "[CV] C=1, kernel=linear ..............................................\n",
      "[CV] ............................... C=1, kernel=linear, total=   0.0s\n",
      "Fitting 2 folds for each of 1 candidates, totalling 2 fits\n",
      "[CV] C=10, kernel=linear .............................................\n",
      "[CV] .............................. C=10, kernel=linear, total=   0.0s\n",
      "[CV] C=10, kernel=linear .............................................\n",
      "[CV] .............................. C=10, kernel=linear, total=   0.0s\n",
      "Fitting 2 folds for each of 1 candidates, totalling 2 fits\n",
      "[CV] C=100, kernel=linear ............................................\n",
      "[CV] ............................. C=100, kernel=linear, total=   0.0s\n",
      "[CV] C=100, kernel=linear ............................................\n",
      "[CV] ............................. C=100, kernel=linear, total=   0.0s\n",
      "Fitting 2 folds for each of 1 candidates, totalling 2 fits\n",
      "[CV] C=1000, kernel=linear ...........................................\n",
      "[CV] ............................ C=1000, kernel=linear, total=   0.0s\n",
      "[CV] C=1000, kernel=linear ...........................................\n",
      "[CV] ............................ C=1000, kernel=linear, total=   0.0s\n"
     ]
    },
    {
     "name": "stderr",
     "output_type": "stream",
     "text": [
      "[Parallel(n_jobs=1)]: Using backend SequentialBackend with 1 concurrent workers.\n",
      "[Parallel(n_jobs=1)]: Done   1 out of   1 | elapsed:    0.0s remaining:    0.0s\n",
      "[Parallel(n_jobs=1)]: Done   2 out of   2 | elapsed:    0.0s finished\n",
      "[Parallel(n_jobs=1)]: Using backend SequentialBackend with 1 concurrent workers.\n",
      "[Parallel(n_jobs=1)]: Done   1 out of   1 | elapsed:    0.0s remaining:    0.0s\n",
      "[Parallel(n_jobs=1)]: Done   2 out of   2 | elapsed:    0.0s finished\n",
      "[Parallel(n_jobs=1)]: Using backend SequentialBackend with 1 concurrent workers.\n",
      "[Parallel(n_jobs=1)]: Done   1 out of   1 | elapsed:    0.0s remaining:    0.0s\n",
      "[Parallel(n_jobs=1)]: Done   2 out of   2 | elapsed:    0.0s finished\n",
      "[Parallel(n_jobs=1)]: Using backend SequentialBackend with 1 concurrent workers.\n",
      "[Parallel(n_jobs=1)]: Done   1 out of   1 | elapsed:    0.0s remaining:    0.0s\n",
      "[Parallel(n_jobs=1)]: Done   2 out of   2 | elapsed:    0.0s finished\n",
      "[Parallel(n_jobs=1)]: Using backend SequentialBackend with 1 concurrent workers.\n",
      "[Parallel(n_jobs=1)]: Done   1 out of   1 | elapsed:    0.0s remaining:    0.0s\n",
      "[Parallel(n_jobs=1)]: Done   2 out of   2 | elapsed:    0.0s finished\n"
     ]
    }
   ],
   "source": [
    "#for plots construction\n",
    "\n",
    "param_C = [0.001, 0.01, 0.1, 1, 10, 100, 1000]\n",
    "f1_scores_linear = []\n",
    "acc_scores_linear = []\n",
    "roc_scores_linear = []\n",
    "for i in range(7):\n",
    "  parameters_linear = {'kernel':['linear'], 'C':[param_C[i]]}\n",
    "  clf_linear = GridSearchCV(svr, parameters_linear, scoring = 'f1', verbose=2, cv=2)\n",
    "  clf_linear.fit(x_train, y_train)\n",
    "  pred = clf_linear.predict(x_test)\n",
    "  proba  = clf_linear.predict_proba(x_test)\n",
    "  f1_scores_linear.append(f1_score(y_test, pred, average='macro'))\n",
    "  acc_scores_linear.append(accuracy_score(y_test, pred))\n",
    "  roc_scores_linear.append(roc_auc_score(y_test, proba[:,1]))"
   ]
  },
  {
   "cell_type": "code",
   "execution_count": null,
   "metadata": {
    "id": "5qvEIDrxsi1e"
   },
   "outputs": [],
   "source": [
    "df_linear = pd.DataFrame({'f1_scores': f1_scores_linear,\n",
    "                 'acc_scores': acc_scores_linear, \n",
    "                 'roc_scores': roc_scores_linear, \n",
    "                 'param': param_C })"
   ]
  },
  {
   "cell_type": "code",
   "execution_count": null,
   "metadata": {
    "colab": {
     "base_uri": "https://localhost:8080/",
     "height": 437
    },
    "id": "qNxeKOmHsloG",
    "outputId": "bf5cbae7-8ceb-4cb4-8ed1-773253538da2"
   },
   "outputs": [
    {
     "name": "stdout",
     "output_type": "stream",
     "text": [
      "   f1_scores  acc_scores  roc_scores     param\n",
      "0   0.327103    0.486111    0.118147     0.001\n",
      "1   0.902307    0.902778    0.959846     0.010\n",
      "2   0.944272    0.944444    0.996911     0.100\n",
      "3   0.958261    0.958333    0.998456     1.000\n",
      "4   0.972136    0.972222    0.999228    10.000\n",
      "5   0.972136    0.972222    1.000000   100.000\n",
      "6   0.986087    0.986111    1.000000  1000.000\n"
     ]
    },
    {
     "data": {
      "image/png": "[encoded data removed]",
      "text/plain": [
       "<Figure size 432x288 with 1 Axes>"
      ]
     },
     "metadata": {
      "needs_background": "light",
      "tags": []
     },
     "output_type": "display_data"
    }
   ],
   "source": [
    "print(df_linear)\n",
    "drawPlot(df_linear,'Linear','C')"
   ]
  },
  {
   "cell_type": "markdown",
   "metadata": {
    "id": "BuZwtx0szXI9"
   },
   "source": [
    "Here we can see that increasing of parameter C (which is actually regularization coefficient) influences the increase of all metrics. "
   ]
  },
  {
   "cell_type": "code",
   "execution_count": null,
   "metadata": {
    "colab": {
     "base_uri": "https://localhost:8080/"
    },
    "id": "wfCSQPrfefKu",
    "outputId": "58187ef4-230b-44e7-9fa2-367d18c25935"
   },
   "outputs": [
    {
     "name": "stdout",
     "output_type": "stream",
     "text": [
      "Fitting 2 folds for each of 1 candidates, totalling 2 fits\n",
      "[CV] C=10, degree=1, kernel=poly .....................................\n",
      "[CV] ...................... C=10, degree=1, kernel=poly, total=   0.0s\n",
      "[CV] C=10, degree=1, kernel=poly .....................................\n",
      "[CV] ...................... C=10, degree=1, kernel=poly, total=   0.0s\n",
      "Fitting 2 folds for each of 1 candidates, totalling 2 fits\n",
      "[CV] C=10, degree=4, kernel=poly .....................................\n",
      "[CV] ...................... C=10, degree=4, kernel=poly, total=   0.0s\n",
      "[CV] C=10, degree=4, kernel=poly .....................................\n",
      "[CV] ...................... C=10, degree=4, kernel=poly, total=   0.0s\n",
      "Fitting 2 folds for each of 1 candidates, totalling 2 fits\n",
      "[CV] C=10, degree=8, kernel=poly .....................................\n",
      "[CV] ...................... C=10, degree=8, kernel=poly, total=   0.0s\n",
      "[CV] C=10, degree=8, kernel=poly .....................................\n",
      "[CV] ...................... C=10, degree=8, kernel=poly, total=   0.1s\n"
     ]
    },
    {
     "name": "stderr",
     "output_type": "stream",
     "text": [
      "[Parallel(n_jobs=1)]: Using backend SequentialBackend with 1 concurrent workers.\n",
      "[Parallel(n_jobs=1)]: Done   1 out of   1 | elapsed:    0.0s remaining:    0.0s\n",
      "[Parallel(n_jobs=1)]: Done   2 out of   2 | elapsed:    0.0s finished\n",
      "[Parallel(n_jobs=1)]: Using backend SequentialBackend with 1 concurrent workers.\n",
      "[Parallel(n_jobs=1)]: Done   1 out of   1 | elapsed:    0.0s remaining:    0.0s\n",
      "[Parallel(n_jobs=1)]: Done   2 out of   2 | elapsed:    0.0s finished\n",
      "[Parallel(n_jobs=1)]: Using backend SequentialBackend with 1 concurrent workers.\n",
      "[Parallel(n_jobs=1)]: Done   1 out of   1 | elapsed:    0.0s remaining:    0.0s\n",
      "[Parallel(n_jobs=1)]: Done   2 out of   2 | elapsed:    0.1s finished\n"
     ]
    },
    {
     "name": "stdout",
     "output_type": "stream",
     "text": [
      "Fitting 2 folds for each of 1 candidates, totalling 2 fits\n",
      "[CV] C=10, degree=10, kernel=poly ....................................\n",
      "[CV] ..................... C=10, degree=10, kernel=poly, total=   0.0s\n",
      "[CV] C=10, degree=10, kernel=poly ....................................\n",
      "[CV] ..................... C=10, degree=10, kernel=poly, total=   0.1s\n"
     ]
    },
    {
     "name": "stderr",
     "output_type": "stream",
     "text": [
      "[Parallel(n_jobs=1)]: Using backend SequentialBackend with 1 concurrent workers.\n",
      "[Parallel(n_jobs=1)]: Done   1 out of   1 | elapsed:    0.0s remaining:    0.0s\n",
      "[Parallel(n_jobs=1)]: Done   2 out of   2 | elapsed:    0.1s finished\n"
     ]
    }
   ],
   "source": [
    "param_degree = [1, 4, 8, 10]\n",
    "f1_scores_poly = []\n",
    "acc_scores_poly = []\n",
    "roc_scores_poly = []\n",
    "param_deg_history_poly = []\n",
    "for j in range(len(param_degree)):\n",
    "    parameters_poly = {'kernel':['poly'], 'C':[10], 'degree':[param_degree[j]]}\n",
    "    clf_poly = GridSearchCV(svr, parameters_poly, scoring = 'f1', verbose=2, cv=2)\n",
    "    clf_poly.fit(x_train, y_train)\n",
    "    pred = clf_poly.predict(x_test)\n",
    "    proba  = clf_poly.predict_proba(x_test)\n",
    "    f1_scores_poly.append(f1_score(y_test, pred, average='macro'))\n",
    "    acc_scores_poly.append(accuracy_score(y_test, pred))\n",
    "    roc_scores_poly.append(roc_auc_score(y_test, proba[:,1]))\n",
    "    param_deg_history_poly.append(param_degree[j])\n"
   ]
  },
  {
   "cell_type": "code",
   "execution_count": null,
   "metadata": {
    "id": "P5mv2CFniweZ"
   },
   "outputs": [],
   "source": [
    "df_Poly = pd.DataFrame({'f1_scores': f1_scores_poly,\n",
    "                 'acc_scores': acc_scores_poly, \n",
    "                 'roc_scores': roc_scores_poly, \n",
    "                 'param': param_deg_history_poly })"
   ]
  },
  {
   "cell_type": "code",
   "execution_count": null,
   "metadata": {
    "colab": {
     "base_uri": "https://localhost:8080/",
     "height": 386
    },
    "id": "mkYRDeUQsc9e",
    "outputId": "04d49372-ffc8-428c-8b11-67fbcb87d027"
   },
   "outputs": [
    {
     "name": "stdout",
     "output_type": "stream",
     "text": [
      "   f1_scores  acc_scores  roc_scores  param\n",
      "0   0.972201    0.972222    0.998456      1\n",
      "1   0.986087    0.986111    0.984556      4\n",
      "2   0.859375    0.861111    0.970656      8\n",
      "3   0.784646    0.791667    0.033205     10\n"
     ]
    },
    {
     "data": {
      "image/png": "[encoded data removed]",
      "text/plain": [
       "<Figure size 432x288 with 1 Axes>"
      ]
     },
     "metadata": {
      "needs_background": "light",
      "tags": []
     },
     "output_type": "display_data"
    }
   ],
   "source": [
    "print(df_Poly)\n",
    "drawPlot(df_Poly,'Polynomial','degree')"
   ]
  },
  {
   "cell_type": "markdown",
   "metadata": {
    "id": "_ORLRYlbz4dL"
   },
   "source": [
    "This plot shows that our param degree for polynomial kernel has the danger of overfitting because as far as it increases - we can watch some kind of increase of accurancy and f1 metrics. But after it reaches the value = 4 all metrics start to decrease very sharp. "
   ]
  },
  {
   "cell_type": "code",
   "execution_count": null,
   "metadata": {
    "colab": {
     "base_uri": "https://localhost:8080/"
    },
    "id": "1OrujAI0srIO",
    "outputId": "ccafa0af-20e1-4826-ed48-f1de508f5688"
   },
   "outputs": [
    {
     "name": "stdout",
     "output_type": "stream",
     "text": [
      "Fitting 2 folds for each of 1 candidates, totalling 2 fits\n",
      "[CV] C=0.01, gamma=1, kernel=poly ....................................\n",
      "[CV] ..................... C=0.01, gamma=1, kernel=poly, total=   0.0s\n",
      "[CV] C=0.01, gamma=1, kernel=poly ....................................\n",
      "[CV] ..................... C=0.01, gamma=1, kernel=poly, total=   0.0s\n",
      "Fitting 2 folds for each of 1 candidates, totalling 2 fits\n",
      "[CV] C=0.01, gamma=4, kernel=poly ....................................\n",
      "[CV] ..................... C=0.01, gamma=4, kernel=poly, total=   0.0s\n",
      "[CV] C=0.01, gamma=4, kernel=poly ....................................\n",
      "[CV] ..................... C=0.01, gamma=4, kernel=poly, total=   0.0s\n",
      "Fitting 2 folds for each of 1 candidates, totalling 2 fits\n",
      "[CV] C=0.01, gamma=8, kernel=poly ....................................\n",
      "[CV] ..................... C=0.01, gamma=8, kernel=poly, total=   0.0s\n",
      "[CV] C=0.01, gamma=8, kernel=poly ....................................\n",
      "[CV] ..................... C=0.01, gamma=8, kernel=poly, total=   0.0s\n",
      "Fitting 2 folds for each of 1 candidates, totalling 2 fits\n",
      "[CV] C=0.01, gamma=10, kernel=poly ...................................\n",
      "[CV] .................... C=0.01, gamma=10, kernel=poly, total=   0.0s\n",
      "[CV] C=0.01, gamma=10, kernel=poly ...................................\n",
      "[CV] .................... C=0.01, gamma=10, kernel=poly, total=   0.0s\n"
     ]
    },
    {
     "name": "stderr",
     "output_type": "stream",
     "text": [
      "[Parallel(n_jobs=1)]: Using backend SequentialBackend with 1 concurrent workers.\n",
      "[Parallel(n_jobs=1)]: Done   1 out of   1 | elapsed:    0.0s remaining:    0.0s\n",
      "[Parallel(n_jobs=1)]: Done   2 out of   2 | elapsed:    0.0s finished\n",
      "[Parallel(n_jobs=1)]: Using backend SequentialBackend with 1 concurrent workers.\n",
      "[Parallel(n_jobs=1)]: Done   1 out of   1 | elapsed:    0.0s remaining:    0.0s\n",
      "[Parallel(n_jobs=1)]: Done   2 out of   2 | elapsed:    0.0s finished\n",
      "[Parallel(n_jobs=1)]: Using backend SequentialBackend with 1 concurrent workers.\n",
      "[Parallel(n_jobs=1)]: Done   1 out of   1 | elapsed:    0.0s remaining:    0.0s\n",
      "[Parallel(n_jobs=1)]: Done   2 out of   2 | elapsed:    0.0s finished\n",
      "[Parallel(n_jobs=1)]: Using backend SequentialBackend with 1 concurrent workers.\n",
      "[Parallel(n_jobs=1)]: Done   1 out of   1 | elapsed:    0.0s remaining:    0.0s\n",
      "[Parallel(n_jobs=1)]: Done   2 out of   2 | elapsed:    0.0s finished\n"
     ]
    }
   ],
   "source": [
    "param_gamma = [1, 4, 8, 10]\n",
    "f1_scores_rbf = []\n",
    "acc_scores_rbf = []\n",
    "roc_scores_rbf = []\n",
    "for j in range(len(param_degree)):\n",
    "    parameters_poly = {'kernel':['poly'], 'C':[0.01], 'gamma':[param_gamma[j]]}\n",
    "    clf_poly = GridSearchCV(svr, parameters_poly, scoring = 'f1', verbose=2, cv=2)\n",
    "    clf_poly.fit(x_train, y_train)\n",
    "    pred = clf_poly.predict(x_test)\n",
    "    proba  = clf_poly.predict_proba(x_test)\n",
    "    f1_scores_rbf.append(f1_score(y_test, pred, average='macro'))\n",
    "    acc_scores_rbf.append(accuracy_score(y_test, pred))\n",
    "    roc_scores_rbf.append(roc_auc_score(y_test, proba[:,1]))"
   ]
  },
  {
   "cell_type": "code",
   "execution_count": null,
   "metadata": {
    "id": "Db1v4a73srot"
   },
   "outputs": [],
   "source": [
    "df_Rbf = pd.DataFrame({'f1_scores': f1_scores_rbf,\n",
    "                 'acc_scores': acc_scores_rbf, \n",
    "                 'roc_scores': roc_scores_rbf, \n",
    "                 'param': param_gamma })"
   ]
  },
  {
   "cell_type": "code",
   "execution_count": null,
   "metadata": {
    "colab": {
     "base_uri": "https://localhost:8080/",
     "height": 386
    },
    "id": "T2fqzIY_srvZ",
    "outputId": "f4f3bf82-8033-4f0f-c14c-12f12afa2747"
   },
   "outputs": [
    {
     "name": "stdout",
     "output_type": "stream",
     "text": [
      "   f1_scores  acc_scores  roc_scores  param\n",
      "0   0.986108    0.986111    0.974131      1\n",
      "1   0.986108    0.986111    0.975290      4\n",
      "2   0.986108    0.986111    0.979923      8\n",
      "3   1.000000    1.000000    1.000000     10\n"
     ]
    },
    {
     "data": {
      "image/png": "[encoded data removed]",
      "text/plain": [
       "<Figure size 432x288 with 1 Axes>"
      ]
     },
     "metadata": {
      "needs_background": "light",
      "tags": []
     },
     "output_type": "display_data"
    }
   ],
   "source": [
    "print(df_Rbf)\n",
    "drawPlot(df_Rbf,'RBF','gamma')"
   ]
  },
  {
   "cell_type": "markdown",
   "metadata": {
    "id": "ZhGVQD5g0jdB"
   },
   "source": [
    "And at the last plot we see that for rbf kernel the increase of gamma from 8 to 10 shows the best influence on metrics. "
   ]
  },
  {
   "cell_type": "markdown",
   "metadata": {
    "id": "sY8q6JdCDvZK"
   },
   "source": [
    "## PART 3: Natural Language Processing"
   ]
  },
  {
   "cell_type": "markdown",
   "metadata": {
    "id": "eD4xKhYfDvZK"
   },
   "source": [
    "#### 7. Form the dataset\n",
    "\n",
    "We are going to form a dataset that we will use in the following tasks for binary and multiclass classification\n",
    "\n",
    "0. Choose **six** authors that you like (specify who you've chosen) and download the <a href=\"https://www.kaggle.com/d0rj3228/russian-literature?select=prose\">relevant data</a> from **prose** section\n",
    "1. Build your own dataset for these authors: \n",
    "    * divide each text into sentences such that we will have two columns: *sentence* and *target author*, each row will contain one sentence and one target\n",
    "    * drop sentences where N symbols in a sentence < 100\n",
    "    * fix random state and randomly choose sentences in the folowing proportion \"30k : 15k : 7k : 20k: 40k : 3k\" for the authors respectively\n",
    "    \n",
    "    sample data may look like:\n",
    "    \n",
    "    <center> \n",
    "    <table>\n",
    "        <tr>\n",
    "            <th> sentence </th>\n",
    "            <th> author </th>\n",
    "        </tr> \n",
    "        <tr><td> Несколько лет тому назад в одном из своих поместий жил старинный русской барин, Кирила Петрович Троекуров. </td><td> Пушкин </td><td> \n",
    "        <tr><td> Уже более недели приезжий господин жил в городе, разъезжая по вечеринкам и обедам и таким образом проводя, как говорится, очень приятно время. </td><td> Гоголь </td><td> \n",
    "        <tr><td> ... </td><td> ... </td><td> \n",
    "        <tr><td> Я жил недорослем, гоняя голубей и играя в чехарду с дворовыми мальчишками. </td><td> Пушкин </td><td>         \n",
    "    </table>\n",
    "</center>\n",
    "     \n",
    "2. Preprocess (tokenize and clean) the dataset \n",
    "    * tokenize, remove all stop words (nltk.corpus.stopwords), punctuation (string.punctuation) and numbers\n",
    "    * convert to lower case and lemmatize the words\n",
    "    * vectorize words using both **bag of words** and **tf-idf** (use sklearn)\n",
    "    * observe and describe the difference between vectorized output (what do numbers look like after transformations and what do they represent?)"
   ]
  },
  {
   "cell_type": "markdown",
   "metadata": {
    "id": "-sPGAsaZWis7"
   },
   "source": [
    "![image.png](data:image/png;base64,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)"
   ]
  },
  {
   "cell_type": "code",
   "execution_count": null,
   "metadata": {
    "colab": {
     "base_uri": "https://localhost:8080/"
    },
    "id": "mL5X80BBFYUu",
    "outputId": "4ef0697d-8d6d-4e54-b715-0805f013b9c4"
   },
   "outputs": [
    {
     "name": "stdout",
     "output_type": "stream",
     "text": [
      "Collecting pymorphy2\n",
      "\u001b[?25l  Downloading https://files.pythonhosted.org/packages/07/57/b2ff2fae3376d4f3c697b9886b64a54b476e1a332c67eee9f88e7f1ae8c9/pymorphy2-0.9.1-py3-none-any.whl (55kB)\n",
      "\u001b[K     |████████████████████████████████| 61kB 3.1MB/s \n",
      "\u001b[?25hCollecting pymorphy2-dicts-ru<3.0,>=2.4\n",
      "\u001b[?25l  Downloading https://files.pythonhosted.org/packages/3a/79/bea0021eeb7eeefde22ef9e96badf174068a2dd20264b9a378f2be1cdd9e/pymorphy2_dicts_ru-2.4.417127.4579844-py2.py3-none-any.whl (8.2MB)\n",
      "\u001b[K     |████████████████████████████████| 8.2MB 8.0MB/s \n",
      "\u001b[?25hCollecting dawg-python>=0.7.1\n",
      "  Downloading https://files.pythonhosted.org/packages/6a/84/ff1ce2071d4c650ec85745766c0047ccc3b5036f1d03559fd46bb38b5eeb/DAWG_Python-0.7.2-py2.py3-none-any.whl\n",
      "Requirement already satisfied: docopt>=0.6 in /usr/local/lib/python3.7/dist-packages (from pymorphy2) (0.6.2)\n",
      "Installing collected packages: pymorphy2-dicts-ru, dawg-python, pymorphy2\n",
      "Successfully installed dawg-python-0.7.2 pymorphy2-0.9.1 pymorphy2-dicts-ru-2.4.417127.4579844\n"
     ]
    }
   ],
   "source": [
    "! pip install pymorphy2"
   ]
  },
  {
   "cell_type": "code",
   "execution_count": null,
   "metadata": {
    "id": "L96CCfkh1YVc"
   },
   "outputs": [],
   "source": [
    "from os import listdir\n",
    "import nltk\n",
    "import string \n",
    "from nltk.tokenize import sent_tokenize, word_tokenize\n",
    "import random\n",
    "import pymorphy2 "
   ]
  },
  {
   "cell_type": "code",
   "execution_count": null,
   "metadata": {
    "colab": {
     "base_uri": "https://localhost:8080/"
    },
    "id": "SFWZDY7A7Ph0",
    "outputId": "41e3c1a2-f1b8-4c93-c09c-1822ae2cc790"
   },
   "outputs": [
    {
     "name": "stdout",
     "output_type": "stream",
     "text": [
      "[nltk_data] Downloading package stopwords to /root/nltk_data...\n",
      "[nltk_data]   Unzipping corpora/stopwords.zip.\n",
      "[nltk_data] Downloading package punkt to /root/nltk_data...\n",
      "[nltk_data]   Unzipping tokenizers/punkt.zip.\n"
     ]
    }
   ],
   "source": [
    "# We need to have folders with chosen by me authors: Tolstoy, Chekhov,\n",
    "# Herzen, Gorky, Dostoevsky, Lermontov in our current directory\n",
    "nltk.download('stopwords')\n",
    "stop_words = nltk.corpus.stopwords.words('russian')\n",
    "nltk.download('punkt')\n",
    "random.seed(42)\n"
   ]
  },
  {
   "cell_type": "code",
   "execution_count": null,
   "metadata": {
    "id": "y58j4HCw6JmV"
   },
   "outputs": [],
   "source": [
    "# I've decided to remove all stop_words, digits and transform words to lower keys in the first step\n",
    "# so final dataFrame will contain sentences with no stop_words and digit (etc)\n",
    "# lemmatization i'll use on the second step\n",
    "\n",
    "authors = [\"Dostoevsky\",\"Tolstoy\",\"Gorky\",\"Chekhov\", \"Herzen\", \"Lermontov\"]\n",
    "final_arr = []\n",
    "for i in range(len(authors)):\n",
    "  arr = []\n",
    "  for elem in listdir(authors[i]):\n",
    "    print(elem)\n",
    "    if (elem.rfind('.txt') != -1):\n",
    "      with open(authors[i]+'/'+elem) as f:\n",
    "        extra = f.read().replace('!', '.').replace('?', '.').split('.')\n",
    "        for j in extra:\n",
    "          if len(j) > 15:\n",
    "            str_extra = ''\n",
    "            j = j.lower()\n",
    "            for k in word_tokenize(j):\n",
    "              if k not in stop_words and k not in string.punctuation and not k.isdigit():\n",
    "                str_extra += k + ' '\n",
    "            arr.append([str_extra.strip(' '), authors[i]])\n",
    "  print(\"Number of possible sentences: \", len(arr))\n",
    "  sent = pd.Series(arr)\n",
    "  if arr[0][1] == 'Dostoevsky':\n",
    "    arr = sent.sample(n = 40000)\n",
    "  elif arr[0][1] == 'Tolstoy':\n",
    "    arr = sent.sample(n = 30000)\n",
    "  elif arr[0][1] == 'Gorky':\n",
    "    arr = sent.sample(n = 20000)\n",
    "  elif arr[0][1] == 'Chekhov':\n",
    "    arr = sent.sample(n = 15000)\n",
    "  elif arr[0][1] == 'Herzen':\n",
    "    arr = sent.sample(n = 7000)\n",
    "  elif arr[0][1] == 'Lermontov':\n",
    "    arr = sent.sample(n = 3000)\n",
    "  for k in arr:\n",
    "    final_arr.append(k)\n",
    "df = pd.DataFrame(final_arr, columns=['sentence', 'author'])\n",
    "print(df)\n"
   ]
  },
  {
   "cell_type": "code",
   "execution_count": null,
   "metadata": {
    "colab": {
     "base_uri": "https://localhost:8080/"
    },
    "id": "ThkbF8s0BTef",
    "outputId": "d3508183-f084-4ca6-b27c-f706e970a0e4"
   },
   "outputs": [
    {
     "data": {
      "text/plain": [
       "sentence    0\n",
       "author      0\n",
       "dtype: int64"
      ]
     },
     "execution_count": 7,
     "metadata": {
      "tags": []
     },
     "output_type": "execute_result"
    }
   ],
   "source": [
    "df[df['author'] == 'Tolstoy'].count()"
   ]
  },
  {
   "cell_type": "code",
   "execution_count": null,
   "metadata": {
    "id": "ZA0JjAfpIRSi"
   },
   "outputs": [],
   "source": [
    "morph = pymorphy2.MorphAnalyzer()"
   ]
  },
  {
   "cell_type": "code",
   "execution_count": null,
   "metadata": {},
   "outputs": [],
   "source": [
    "for s in df.iloc[:,0]:\n",
    "  extra = s.split(' ')\n",
    "  s_new = ''\n",
    "  for w in extra:\n",
    "    w_lemm = morph.parse(w)[0].normal_form\n",
    "    s_new += w_lemm + ' '\n",
    "    print(w,'-',w_lemm)\n",
    "  s_new_to_arr = s_new.strip(' ')\n",
    "  df['sentence'].replace({s: s_new_to_arr}, inplace=True)\n",
    "print (df)\n",
    "  "
   ]
  },
  {
   "cell_type": "code",
   "execution_count": null,
   "metadata": {
    "id": "2ooFPFxWQ_Xp"
   },
   "outputs": [],
   "source": [
    "from sklearn.feature_extraction.text import TfidfVectorizer, TfidfTransformer\n",
    "from sklearn.model_selection import train_test_split\n",
    "from sklearn.feature_extraction.text import CountVectorizer"
   ]
  },
  {
   "cell_type": "code",
   "execution_count": null,
   "metadata": {
    "id": "PaLXXQgiMXLM"
   },
   "outputs": [],
   "source": [
    "train_sentence, test_sentence, train_author, test_author = train_test_split(df.iloc[:,0], df.iloc[:,1], test_size=0.2, random_state=42, stratify = df.iloc[:,1])"
   ]
  },
  {
   "cell_type": "code",
   "execution_count": null,
   "metadata": {
    "id": "GrPc-K5pOVv9"
   },
   "outputs": [],
   "source": [
    "vectorizer = CountVectorizer(max_features = 150000)\n",
    "vectorizer.fit(train_sentence)\n",
    "\n",
    "vectorizer.get_feature_names()[:150000]"
   ]
  },
  {
   "cell_type": "code",
   "execution_count": null,
   "metadata": {
    "id": "wMkwp94ROasG"
   },
   "outputs": [],
   "source": [
    "train_S = vectorizer.transform(train_sentence)\n",
    "test_S  = vectorizer.transform(test_sentence)"
   ]
  },
  {
   "cell_type": "code",
   "execution_count": null,
   "metadata": {
    "id": "hPYf3GYWOc9q"
   },
   "outputs": [],
   "source": [
    "train_S.todense()[:2]"
   ]
  },
  {
   "cell_type": "code",
   "execution_count": null,
   "metadata": {
    "id": "XNd7VGU_P8Gk"
   },
   "outputs": [],
   "source": [
    "vectorizer = TfidfVectorizer(max_features = 150000) \n",
    "vectorizer.fit(train_sentence)\n",
    "\n",
    "vectorizer.get_feature_names()[:150000]"
   ]
  },
  {
   "cell_type": "code",
   "execution_count": null,
   "metadata": {
    "id": "VkWMiaBdP-T2"
   },
   "outputs": [],
   "source": [
    "train_S_tf_idf = vectorizer.transform(train_sentence)\n",
    "test_S_tf_idf  = vectorizer.transform(test_sentence)"
   ]
  },
  {
   "cell_type": "code",
   "execution_count": null,
   "metadata": {
    "id": "iQPTqBFSQApu"
   },
   "outputs": [],
   "source": [
    "train_S_tf_idf.todense()[:2]"
   ]
  },
  {
   "cell_type": "markdown",
   "metadata": {
    "id": "7Q06NoQaTsjU"
   },
   "source": [
    "So now we can see, that after vectorizing sentences with bag-of-words we have matrix, there for each word from max_features we see how many times it appears in the current sentence. So we have frequency occurrence matrix. \n",
    "\n",
    "In the same time we can take a look to tf-idf matrix, where we see float numbers, which show us frequency of occurrence of a word in the current sentence. So it is the ratio of the number of mentions of a word to the sum of all words. "
   ]
  },
  {
   "cell_type": "markdown",
   "metadata": {
    "id": "5G1kt0qbDvZL"
   },
   "source": [
    "#### 7. Analysing ROC_AUC\n",
    "\n",
    "It is possible to control the proportion of statistical errors of different types using different thresholds for choosing a class. Plot ROC curves for Logistic Regression and SVC, show the threshold on ROC curve plots. "
   ]
  },
  {
   "cell_type": "markdown",
   "metadata": {
    "id": "cX4lsDAs_E2K"
   },
   "source": [
    "I've decided to increase our number of samples in data for more clear plot. "
   ]
  },
  {
   "cell_type": "code",
   "execution_count": null,
   "metadata": {
    "id": "BZ2GZ8-uDvZL"
   },
   "outputs": [],
   "source": [
    "\n",
    "from sklearn.datasets import make_classification\n",
    "X_new, y_new = make_classification(n_samples=5000, n_features=2, n_redundant=0, n_informative=2,\n",
    "                               random_state=42, n_clusters_per_class=1)"
   ]
  },
  {
   "cell_type": "code",
   "execution_count": null,
   "metadata": {
    "colab": {
     "base_uri": "https://localhost:8080/",
     "height": 964
    },
    "id": "UXZT3TI_7fZy",
    "outputId": "58ac0607-7d4d-4bf9-9b2d-1a03303c545c"
   },
   "outputs": [
    {
     "name": "stdout",
     "output_type": "stream",
     "text": [
      "Fitting 2 folds for each of 7 candidates, totalling 14 fits\n",
      "[CV] C=0.001, kernel=linear ..........................................\n",
      "[CV] ........................... C=0.001, kernel=linear, total=   0.1s\n",
      "[CV] C=0.001, kernel=linear ..........................................\n"
     ]
    },
    {
     "name": "stderr",
     "output_type": "stream",
     "text": [
      "[Parallel(n_jobs=1)]: Using backend SequentialBackend with 1 concurrent workers.\n",
      "[Parallel(n_jobs=1)]: Done   1 out of   1 | elapsed:    0.1s remaining:    0.0s\n"
     ]
    },
    {
     "name": "stdout",
     "output_type": "stream",
     "text": [
      "[CV] ........................... C=0.001, kernel=linear, total=   0.1s\n",
      "[CV] C=0.01, kernel=linear ...........................................\n",
      "[CV] ............................ C=0.01, kernel=linear, total=   0.1s\n",
      "[CV] C=0.01, kernel=linear ...........................................\n",
      "[CV] ............................ C=0.01, kernel=linear, total=   0.1s\n",
      "[CV] C=0.1, kernel=linear ............................................\n",
      "[CV] ............................. C=0.1, kernel=linear, total=   0.0s\n",
      "[CV] C=0.1, kernel=linear ............................................\n",
      "[CV] ............................. C=0.1, kernel=linear, total=   0.1s\n",
      "[CV] C=1, kernel=linear ..............................................\n",
      "[CV] ............................... C=1, kernel=linear, total=   0.1s\n",
      "[CV] C=1, kernel=linear ..............................................\n",
      "[CV] ............................... C=1, kernel=linear, total=   0.1s\n",
      "[CV] C=10, kernel=linear .............................................\n",
      "[CV] .............................. C=10, kernel=linear, total=   0.1s\n",
      "[CV] C=10, kernel=linear .............................................\n",
      "[CV] .............................. C=10, kernel=linear, total=   0.1s\n",
      "[CV] C=100, kernel=linear ............................................\n",
      "[CV] ............................. C=100, kernel=linear, total=   0.5s\n",
      "[CV] C=100, kernel=linear ............................................\n",
      "[CV] ............................. C=100, kernel=linear, total=   0.5s\n",
      "[CV] C=1000, kernel=linear ...........................................\n",
      "[CV] ............................ C=1000, kernel=linear, total=   3.5s\n",
      "[CV] C=1000, kernel=linear ...........................................\n",
      "[CV] ............................ C=1000, kernel=linear, total=   3.1s\n",
      "BEST PARAMS:  {'C': 1000, 'kernel': 'linear'}\n",
      "Precision:   0.93\n",
      "Recall:   0.93\n",
      "F1-measure:   0.93\n",
      "Accuracy:   0.93\n",
      "ROC-AUC  =    0.97\n",
      "\n",
      "\n"
     ]
    },
    {
     "name": "stderr",
     "output_type": "stream",
     "text": [
      "[Parallel(n_jobs=1)]: Done  14 out of  14 | elapsed:    8.4s finished\n"
     ]
    },
    {
     "data": {
      "image/png": "[encoded data removed]",
      "text/plain": [
       "<Figure size 432x288 with 1 Axes>"
      ]
     },
     "metadata": {
      "needs_background": "light",
      "tags": []
     },
     "output_type": "display_data"
    }
   ],
   "source": [
    "\n",
    "x_train_new, x_test_new, y_train_new, y_test_new = sklearn.model_selection.train_test_split(X_new, y_new, test_size=0.4, random_state=0)\n",
    "\n",
    "parameters_linear = {'kernel':['linear'], 'C':[0.001, 0.01, 0.1, 1, 10, 100, 1000]}\n",
    "svr = SVC(probability=True, verbose = False)\n",
    "\n",
    "clf_linear_new = GridSearchCV(svr, parameters_linear, scoring = 'f1', verbose=2, cv=2)\n",
    "clf_linear_new.fit(x_train_new, y_train_new)\n",
    "print('BEST PARAMS: ', clf_linear.best_params_)\n",
    "pred = clf_linear_new.predict(x_test_new)\n",
    "proba  = clf_linear_new.predict_proba(x_test_new)\n",
    "show_results(y_test_new, pred, proba)"
   ]
  },
  {
   "cell_type": "code",
   "execution_count": null,
   "metadata": {
    "colab": {
     "base_uri": "https://localhost:8080/",
     "height": 285
    },
    "id": "wHvctpRbPK2s",
    "outputId": "6cbb2dfb-2818-4c16-fabf-5792c3d2c958"
   },
   "outputs": [
    {
     "data": {
      "image/png": "[encoded data removed]",
      "text/plain": [
       "<Figure size 432x288 with 1 Axes>"
      ]
     },
     "metadata": {
      "needs_background": "light",
      "tags": []
     },
     "output_type": "display_data"
    }
   ],
   "source": [
    "sklearn.metrics.plot_roc_curve(clf_linear_new, x_test_new, y_test_new)  \n",
    "plt.show()  "
   ]
  },
  {
   "cell_type": "code",
   "execution_count": null,
   "metadata": {
    "colab": {
     "base_uri": "https://localhost:8080/"
    },
    "id": "lPwEj87Y9Zok",
    "outputId": "23508724-a39e-476d-93bf-708d7f28916c"
   },
   "outputs": [
    {
     "name": "stdout",
     "output_type": "stream",
     "text": [
      "[0.         0.09770688 1.        ]\n",
      "[0.         0.95887663 1.        ]\n",
      "[2 1 0]\n"
     ]
    }
   ],
   "source": [
    "fpr, tpr, thresholds = roc_curve(y_test_new, pred, pos_label=1)\n",
    "print(fpr)\n",
    "print(tpr)\n",
    "print(thresholds)"
   ]
  },
  {
   "cell_type": "markdown",
   "metadata": {
    "id": "Ax7sooxa-ApA"
   },
   "source": [
    "Each point at the plot is coordinate of (FPR,TPR) which responds to value of threshold. As close we are to the point (1,1) - as better. "
   ]
  }
 ],
 "metadata": {
  "colab": {
   "collapsed_sections": [
    "fIHtwV6vDvZD",
    "j1eSuDKXFVZu",
    "Q_lIccN_DvZE",
    "fIVoC6UmDvZE",
    "BhOb8HrtDvZF",
    "0FhSCAv_DvZJ",
    "lYyGsSxEDvZJ",
    "5G1kt0qbDvZL"
   ],
   "name": "Logit_SVM_NLP.ipynb",
   "provenance": []
  },
  "kernelspec": {
   "display_name": "Python 3 (ipykernel)",
   "language": "python",
   "name": "python3"
  },
  "language_info": {
   "codemirror_mode": {
    "name": "ipython",
    "version": 3
   },
   "file_extension": ".py",
   "mimetype": "text/x-python",
   "name": "python",
   "nbconvert_exporter": "python",
   "pygments_lexer": "ipython3",
   "version": "3.9.12"
  }
 },
 "nbformat": 4,
 "nbformat_minor": 1
}
